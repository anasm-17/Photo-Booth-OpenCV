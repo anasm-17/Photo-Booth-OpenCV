{
 "cells": [
  {
   "cell_type": "code",
   "execution_count": 1,
   "metadata": {},
   "outputs": [],
   "source": [
    "import tkinter\n",
    "import cv2\n",
    "import PIL.Image\n",
    "import PIL.ImageTk"
   ]
  },
  {
   "cell_type": "markdown",
   "metadata": {},
   "source": [
    "## Loading from OpenCV to Tkinter"
   ]
  },
  {
   "cell_type": "code",
   "execution_count": 18,
   "metadata": {},
   "outputs": [],
   "source": [
    "# create a window\n",
    "window = tkinter.Toplevel()\n",
    "image_test = cv2.cvtColor(cv2.imread(\"Experiment_files/rainfall-in-mauritius.jpg\"),cv2.COLOR_BGR2RGB)\n",
    "h, w, no_channels = image_test.shape\n",
    "#add canvas to fit image\n",
    "canvas = tkinter.Canvas(window,width=w, height=h)\n",
    "canvas.pack()\n",
    "\n",
    "photo = PIL.ImageTk.PhotoImage(image = PIL.Image.fromarray(image_test))\n",
    "\n",
    "canvas.create_image(0,0,image=photo,anchor=tkinter.NW)\n",
    "window.mainloop()"
   ]
  },
  {
   "cell_type": "markdown",
   "metadata": {},
   "source": [
    "## Adding widgets to this window"
   ]
  },
  {
   "cell_type": "markdown",
   "metadata": {},
   "source": [
    "We will stick to our objective and create 3 buttons:- print, email and cancel"
   ]
  },
  {
   "cell_type": "code",
   "execution_count": 2,
   "metadata": {},
   "outputs": [],
   "source": [
    "def printImage(event):\n",
    "    print(\"image has been printed!\")\n",
    "def cancelImage(event):\n",
    "    print(\"image has been canceled!\")\n",
    "def emailImage(event):\n",
    "    print(\"image has been emailed!\")"
   ]
  },
  {
   "cell_type": "code",
   "execution_count": null,
   "metadata": {},
   "outputs": [],
   "source": []
  },
  {
   "cell_type": "code",
   "execution_count": 21,
   "metadata": {},
   "outputs": [
    {
     "name": "stdout",
     "output_type": "stream",
     "text": [
      "image has been printed!\n",
      "image has been emailed!\n",
      "image has been canceled!\n"
     ]
    }
   ],
   "source": [
    "# create a window\n",
    "window = tkinter.Tk()\n",
    "image_test = cv2.cvtColor(cv2.imread(\"Experiment_files/rainfall-in-mauritius.jpg\"),cv2.COLOR_BGR2RGB)\n",
    "h, w, no_channels = image_test.shape\n",
    "#add canvas to fit image\n",
    "canvas = tkinter.Canvas(window,width=w, height=h)\n",
    "canvas.pack()\n",
    "\n",
    "photo = PIL.ImageTk.PhotoImage(image = PIL.Image.fromarray(image_test))\n",
    "\n",
    "canvas.create_image(0,0,image=photo,anchor=tkinter.NW)\n",
    "\n",
    "print_button = tkinter.Button(window,text=\"Print\",width=20)\n",
    "email_button = tkinter.Button(window,text=\"Email\",width=20)\n",
    "cancel_button = tkinter.Button(window,text=\"Cancel\",width=20)\n",
    "print_button.bind(\"<Button-1>\",printImage)\n",
    "email_button.bind(\"<Button-1>\",emailImage)\n",
    "cancel_button.bind(\"<Button-1>\",cancelImage)\n",
    "\n",
    "print_button.pack(side=tkinter.LEFT,expand=True)\n",
    "email_button.pack(side=tkinter.LEFT,expand=True)\n",
    "cancel_button.pack(side=tkinter.LEFT,expand=True)\n",
    "\n",
    "window.mainloop()"
   ]
  },
  {
   "cell_type": "code",
   "execution_count": null,
   "metadata": {},
   "outputs": [],
   "source": []
  }
 ],
 "metadata": {
  "kernelspec": {
   "display_name": "Python 3",
   "language": "python",
   "name": "python3"
  },
  "language_info": {
   "codemirror_mode": {
    "name": "ipython",
    "version": 3
   },
   "file_extension": ".py",
   "mimetype": "text/x-python",
   "name": "python",
   "nbconvert_exporter": "python",
   "pygments_lexer": "ipython3",
   "version": "3.6.6"
  }
 },
 "nbformat": 4,
 "nbformat_minor": 2
}
